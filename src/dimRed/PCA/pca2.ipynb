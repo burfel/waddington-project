{
 "cells": [
  {
   "cell_type": "code",
   "execution_count": 1,
   "metadata": {},
   "outputs": [
    {
     "ename": "SyntaxError",
     "evalue": "invalid syntax (<ipython-input-1-3c06a9e52fa9>, line 1)",
     "output_type": "error",
     "traceback": [
      "\u001b[0;36m  File \u001b[0;32m\"<ipython-input-1-3c06a9e52fa9>\"\u001b[0;36m, line \u001b[0;32m1\u001b[0m\n\u001b[0;31m    using ScikitLearn, PyPlot\u001b[0m\n\u001b[0m                    ^\u001b[0m\n\u001b[0;31mSyntaxError\u001b[0m\u001b[0;31m:\u001b[0m invalid syntax\n"
     ]
    }
   ],
   "source": [
    "using ScikitLearn\n",
    "using PyPlot\n",
    "using ScikitLearn.GridSearch: GridSearchCV\n",
    "using ScikitLearn.Pipelines: Pipeline, named_steps\n",
    "\n",
    "@sk_import decomposition: PCA\n",
    "@sk_import datasets: load_digits\n",
    "@sk_import linear_model: LogisticRegression"
   ]
  }
 ],
 "metadata": {
  "kernelspec": {
   "display_name": "Python 3",
   "language": "python",
   "name": "python3"
  },
  "language_info": {
   "codemirror_mode": {
    "name": "ipython",
    "version": 3
   },
   "file_extension": ".py",
   "mimetype": "text/x-python",
   "name": "python",
   "nbconvert_exporter": "python",
   "pygments_lexer": "ipython3",
   "version": "3.6.3"
  }
 },
 "nbformat": 4,
 "nbformat_minor": 2
}
