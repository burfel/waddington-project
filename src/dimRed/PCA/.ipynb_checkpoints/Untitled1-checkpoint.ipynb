{
 "cells": [
  {
   "cell_type": "code",
   "execution_count": null,
   "metadata": {},
   "outputs": [],
   "source": [
    "using ScikitLearn, PyPlot\n",
    "using ScikitLearn.GridSearch: GridSearchCV\n",
    "using ScikitLearn.Pipelines: Pipeline, named_steps\n",
    "\n",
    "@sk_import decomposition: PCA\n",
    "@sk_import datasets: load_digits\n",
    "@sk_import linear_model: LogisticRegression"
   ]
  }
 ],
 "metadata": {
  "kernelspec": {
   "display_name": "Julia 0.6.2",
   "language": "julia",
   "name": "julia-0.6"
  }
 },
 "nbformat": 4,
 "nbformat_minor": 2
}
