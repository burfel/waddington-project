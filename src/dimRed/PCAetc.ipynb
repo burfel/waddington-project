{
 "cells": [
  {
   "cell_type": "code",
   "execution_count": 9,
   "metadata": {
    "scrolled": true
   },
   "outputs": [
    {
     "name": "stderr",
     "output_type": "stream",
     "text": [
      "\u001b[1m\u001b[36mINFO: \u001b[39m\u001b[22m\u001b[36mPackage MultivariateStats is already installed\n",
      "\u001b[39m\u001b[1m\u001b[36mINFO: \u001b[39m\u001b[22m\u001b[36mUpdating METADATA...\n",
      "\u001b[39m\u001b[1m\u001b[36mINFO: \u001b[39m\u001b[22m\u001b[36mUpdating BHTsne master...\n",
      "\u001b[39m\u001b[1m\u001b[36mINFO: \u001b[39m\u001b[22m\u001b[36mComputing changes...\n",
      "\u001b[39m\u001b[1m\u001b[36mINFO: \u001b[39m\u001b[22m\u001b[36mNo packages to install, update or remove\n",
      "\u001b[39m"
     ]
    }
   ],
   "source": [
    "Pkg.add(\"MultivariateStats\")\n",
    "Pkg.update()\n",
    "using MultivariateStats"
   ]
  },
  {
   "cell_type": "code",
   "execution_count": null,
   "metadata": {},
   "outputs": [],
   "source": []
  },
  {
   "cell_type": "code",
   "execution_count": 6,
   "metadata": {},
   "outputs": [
    {
     "data": {
      "text/plain": [
       "61.62932855750307"
      ]
     },
     "execution_count": 6,
     "metadata": {},
     "output_type": "execute_result"
    }
   ],
   "source": [
    "# training set\n",
    "X = randn(100,3)\n",
    "\n",
    "# fit PCA algorithm with given max dimension to data set\n",
    "P = fit(PCA, X, maxoutdim = 20)\n",
    "\n",
    "# Explore properties of P\n",
    "# Have we reduced the observation space?\n",
    "# dimension of input data/ raw data:\n",
    "indim(P)\n",
    "\n",
    "# dimension of output data (to check whether algo has reduced dimension):\n",
    "outdim(P)\n",
    "\n",
    "mean(P)\n",
    "\n",
    "# get projection matrix that corresponds to PCs\n",
    "projection(P)\n",
    "\n",
    "# what amount of data is capured by the selected PCs in the output data?\n",
    "principalvars(P)\n",
    "\n",
    "# get variance of PCs, total variance ie sum of variances\n",
    "tprincipalvar(P)"
   ]
  },
  {
   "cell_type": "code",
   "execution_count": null,
   "metadata": {},
   "outputs": [],
   "source": []
  }
 ],
 "metadata": {
  "kernelspec": {
   "display_name": "Julia 0.6.2",
   "language": "julia",
   "name": "julia-0.6"
  },
  "language_info": {
   "file_extension": ".jl",
   "mimetype": "application/julia",
   "name": "julia",
   "version": "0.6.2"
  }
 },
 "nbformat": 4,
 "nbformat_minor": 2
}
