{
 "cells": [
  {
   "cell_type": "code",
   "execution_count": 1,
   "metadata": {},
   "outputs": [
    {
     "name": "stderr",
     "output_type": "stream",
     "text": [
      "\u001b[1m\u001b[36mINFO: \u001b[39m\u001b[22m\u001b[36mPrecompiling module DataFrames.\n",
      "\u001b[39m\u001b[1m\u001b[36mINFO: \u001b[39m\u001b[22m\u001b[36mPrecompiling module Plots.\n",
      "\u001b[39m"
     ]
    },
    {
     "ename": "LoadError",
     "evalue": "\u001b[91mArgumentError: Module StatPlots not found in current path.\nRun `Pkg.add(\"StatPlots\")` to install the StatPlots package.\u001b[39m",
     "output_type": "error",
     "traceback": [
      "\u001b[91mArgumentError: Module StatPlots not found in current path.\nRun `Pkg.add(\"StatPlots\")` to install the StatPlots package.\u001b[39m",
      "",
      "Stacktrace:",
      " [1] \u001b[1m_require\u001b[22m\u001b[22m\u001b[1m(\u001b[22m\u001b[22m::Symbol\u001b[1m)\u001b[22m\u001b[22m at \u001b[1m./loading.jl:435\u001b[22m\u001b[22m",
      " [2] \u001b[1mrequire\u001b[22m\u001b[22m\u001b[1m(\u001b[22m\u001b[22m::Symbol\u001b[1m)\u001b[22m\u001b[22m at \u001b[1m./loading.jl:405\u001b[22m\u001b[22m",
      " [3] \u001b[1minclude_string\u001b[22m\u001b[22m\u001b[1m(\u001b[22m\u001b[22m::String, ::String\u001b[1m)\u001b[22m\u001b[22m at \u001b[1m./loading.jl:522\u001b[22m\u001b[22m"
     ]
    }
   ],
   "source": [
    "# SIMPLE MODEL: activation -- inhibiton (see paper Wang et al)\n",
    "# see also: http://docs.juliadiffeq.org/latest/tutorials/sde_example.html#Example-2:-Systems-of-SDEs-with-Diagonal-Noise-1\n",
    "\n",
    "using DataFrames, Plots, StatPlots, Distributions, DifferentialEquations\n",
    "\n",
    "# using parameters from paper\n",
    "a1, a2, b1, b2, k1, k2, n, S = 1, 1, 1, 1, 1, 1, 4, .5\n",
    "\n",
    "function lorenz(t,u,du)\n",
    "    du[1] = a1*u[1]^n/(u[1]^n+S^n)+b1*S^n/(u[2]^n+S^n)-k1*u[1]\n",
    "    du[2] = a2*u[2]^n/(u[2]^n+S^n)+b2*S^n/(u[1]^n+S^n)-k2*u[2]\n",
    "end\n",
    "\n",
    "function σ_lorenz(t,u,du)\n",
    "  du[1] = sqrt(abs(a1*u[1]^n/(u[1]^n+S^n)+b1*S^n/(u[2]^n+S^n)-k1*u[1]))\n",
    "  du[2] = sqrt(abs(a2*u[2]^n/(u[2]^n+S^n)+b2*S^n/(u[1]^n+S^n)-k2*u[2]))\n",
    "end\n",
    "\n",
    "\n",
    "prob_sde_lorenz = SDEProblem(lorenz,σ_lorenz,[1.0,0.0],(0.0,10.0))\n",
    "sol = solve(prob_sde_lorenz)\n",
    "plot(sol,vars=(1,2))\n"
   ]
  },
  {
   "cell_type": "code",
   "execution_count": null,
   "metadata": {
    "collapsed": true
   },
   "outputs": [],
   "source": []
  }
 ],
 "metadata": {
  "kernelspec": {
   "display_name": "Julia 0.6.2",
   "language": "julia",
   "name": "julia-0.6"
  },
  "language_info": {
   "file_extension": ".jl",
   "mimetype": "application/julia",
   "name": "julia",
   "version": "0.6.2"
  }
 },
 "nbformat": 4,
 "nbformat_minor": 2
}
