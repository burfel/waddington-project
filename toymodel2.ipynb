{
 "cells": [
  {
   "cell_type": "code",
   "execution_count": null,
   "metadata": {
    "collapsed": true
   },
   "outputs": [],
   "source": [
    "using ODE; \n",
    "using Plots;"
   ]
  },
  {
   "cell_type": "code",
   "execution_count": null,
   "metadata": {
    "collapsed": true
   },
   "outputs": [],
   "source": [
    "function f(t, y)\n",
    "    # Extract the components of the y vector\n",
    "    (x, v) = y\n",
    "    \n",
    "    # Our system of differential equations\n",
    "    x_prime = v\n",
    "    v_prime = -x\n",
    "    \n",
    "    # Return the derivatives as a vector\n",
    "    [x_prime; v_prime]\n",
    "end;"
   ]
  },
  {
   "cell_type": "code",
   "execution_count": null,
   "metadata": {
    "collapsed": true
   },
   "outputs": [],
   "source": [
    "# Initial condtions -- x(0) and x'(0)\n",
    "const starty = [0.0; 0.1]\n",
    "\n",
    "# Time vector going from 0 to 2*PI in 0.01 increments\n",
    "time = 0:0.1:4*pi;"
   ]
  },
  {
   "cell_type": "code",
   "execution_count": null,
   "metadata": {
    "collapsed": true
   },
   "outputs": [],
   "source": [
    "t, y = ode45(f, starty, time);"
   ]
  },
  {
   "cell_type": "code",
   "execution_count": null,
   "metadata": {
    "collapsed": true
   },
   "outputs": [],
   "source": [
    "x = map(y -> y[1], y)\n",
    "v = map(y -> y[2], y);"
   ]
  },
  {
   "cell_type": "code",
   "execution_count": null,
   "metadata": {
    "collapsed": true
   },
   "outputs": [],
   "source": [
    "plot(t, x, label=\"x(t)\")\n",
    "plot(t, v, label=\"x'(t)\")\n",
    "legend()"
   ]
  }
 ],
 "metadata": {
  "kernelspec": {
   "display_name": "Julia 0.6.2",
   "language": "julia",
   "name": "julia-0.6"
  },
  "language_info": {
   "file_extension": ".jl",
   "mimetype": "application/julia",
   "name": "julia",
   "version": "0.6.2"
  }
 },
 "nbformat": 4,
 "nbformat_minor": 2
}
