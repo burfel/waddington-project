{
 "cells": [
  {
   "cell_type": "code",
   "execution_count": 15,
   "metadata": {},
   "outputs": [],
   "source": [
    "using ODE; \n",
    "using Plots;"
   ]
  },
  {
   "cell_type": "code",
   "execution_count": 16,
   "metadata": {},
   "outputs": [],
   "source": [
    "function f(t, y)\n",
    "    # Extract the components of the y vector\n",
    "    (x, v) = y\n",
    "    \n",
    "    # Our system of differential equations\n",
    "    x_prime = v\n",
    "    v_prime = -x\n",
    "    \n",
    "    # Return the derivatives as a vector\n",
    "    [x_prime; v_prime]\n",
    "end;"
   ]
  },
  {
   "cell_type": "code",
   "execution_count": 17,
   "metadata": {},
   "outputs": [
    {
     "name": "stderr",
     "output_type": "stream",
     "text": [
      "WARNING: redefining constant starty\n"
     ]
    }
   ],
   "source": [
    "# Initial condtions -- x(0) and x'(0)\n",
    "const starty = [0.0; 0.1]\n",
    "\n",
    "# Time vector going from 0 to 2*PI in 0.01 increments\n",
    "time = 0:0.1:4*pi;"
   ]
  },
  {
   "cell_type": "code",
   "execution_count": 18,
   "metadata": {},
   "outputs": [],
   "source": [
    "t, y = ode45(f, starty, time);"
   ]
  },
  {
   "cell_type": "code",
   "execution_count": 19,
   "metadata": {},
   "outputs": [],
   "source": [
    "x = map(y -> y[1], y)\n",
    "v = map(y -> y[2], y);"
   ]
  },
  {
   "cell_type": "code",
   "execution_count": 20,
   "metadata": {},
   "outputs": [
    {
     "name": "stdout",
     "output_type": "stream",
     "text": [
      "if !Plots.is_installed(\"PyPlot\")\n",
      "    Pkg.add(\"PyPlot\")\n",
      "end\n",
      "withenv(\"PYTHON\" => \"\") do\n",
      "    Pkg.build(\"PyPlot\")\n",
      "end\n",
      "\n",
      "# now restart julia!\n",
      "\n",
      "\n"
     ]
    },
    {
     "name": "stderr",
     "output_type": "stream",
     "text": [
      "\u001b[1m\u001b[33mWARNING: \u001b[39m\u001b[22m\u001b[33mCouldn't initialize pyplot.  (might need to install it?)\u001b[39m\n",
      "\u001b[1m\u001b[36mINFO: \u001b[39m\u001b[22m\u001b[36mTo do a standard install of pyplot, copy and run this:\n",
      "\n",
      "\u001b[39m"
     ]
    },
    {
     "ename": "LoadError",
     "evalue": "\u001b[91mPyError (ccall(@pysym(:PyImport_ImportModule), PyPtr, (Cstring,), name)\n\nThe Python package mpl_toolkits.mplot3d could not be found by pyimport. Usually this means\nthat you did not install mpl_toolkits.mplot3d in the Python version being used by PyCall.\n\nPyCall is currently configured to use the Julia-specific Python distribution\ninstalled by the Conda.jl package.  To install the mpl_toolkits.mplot3d module, you can\nuse `pyimport_conda(\"mpl_toolkits.mplot3d\", PKG)`, where PKG is the Anaconda\npackage the contains the module mpl_toolkits.mplot3d, or alternatively you can use the\nConda package directly (via `using Conda` followed by `Conda.add` etcetera).\n\nAlternatively, if you want to use a different Python distribution on your\nsystem, such as a system-wide Python (as opposed to the Julia-specific Python),\nyou can re-configure PyCall with that Python.   As explained in the PyCall\ndocumentation, set ENV[\"PYTHON\"] to the path/name of the python executable\nyou want to use, run Pkg.build(\"PyCall\"), and re-launch Julia.\n\n) <type 'exceptions.ImportError'>\nImportError('No module named mpl_toolkits.mplot3d',)\n\u001b[39m",
     "output_type": "error",
     "traceback": [
      "\u001b[91mPyError (ccall(@pysym(:PyImport_ImportModule), PyPtr, (Cstring,), name)\n\nThe Python package mpl_toolkits.mplot3d could not be found by pyimport. Usually this means\nthat you did not install mpl_toolkits.mplot3d in the Python version being used by PyCall.\n\nPyCall is currently configured to use the Julia-specific Python distribution\ninstalled by the Conda.jl package.  To install the mpl_toolkits.mplot3d module, you can\nuse `pyimport_conda(\"mpl_toolkits.mplot3d\", PKG)`, where PKG is the Anaconda\npackage the contains the module mpl_toolkits.mplot3d, or alternatively you can use the\nConda package directly (via `using Conda` followed by `Conda.add` etcetera).\n\nAlternatively, if you want to use a different Python distribution on your\nsystem, such as a system-wide Python (as opposed to the Julia-specific Python),\nyou can re-configure PyCall with that Python.   As explained in the PyCall\ndocumentation, set ENV[\"PYTHON\"] to the path/name of the python executable\nyou want to use, run Pkg.build(\"PyCall\"), and re-launch Julia.\n\n) <type 'exceptions.ImportError'>\nImportError('No module named mpl_toolkits.mplot3d',)\n\u001b[39m",
      ""
     ]
    }
   ],
   "source": [
    "plot(t, x, label=\"x(t)\")\n",
    "plot(t, v, label=\"x'(t)\")\n",
    "legend();"
   ]
  }
 ],
 "metadata": {
  "kernelspec": {
   "display_name": "Julia 0.6.2",
   "language": "julia",
   "name": "julia-0.6"
  },
  "language_info": {
   "file_extension": ".jl",
   "mimetype": "application/julia",
   "name": "julia",
   "version": "0.6.2"
  }
 },
 "nbformat": 4,
 "nbformat_minor": 2
}
